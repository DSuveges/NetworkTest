{
 "cells": [
  {
   "cell_type": "markdown",
   "metadata": {},
   "source": [
    "## Visualizing network availability\n",
    "\n",
    "The logfile is generated in the local home server. A small Perl script is continously running and tests if it has an access to the internet. The whole motivation of this small project was that recently we were experience frequent gaps in the internet service, so I decided to collect evidence for a complaint."
   ]
  },
  {
   "cell_type": "code",
   "execution_count": 74,
   "metadata": {
    "collapsed": false
   },
   "outputs": [
    {
     "name": "stdout",
     "output_type": "stream",
     "text": [
      "2016-02-06 00:22:58.449141\n"
     ]
    }
   ],
   "source": [
    "from datetime import datetime\n",
    "print datetime.now()"
   ]
  },
  {
   "cell_type": "code",
   "execution_count": 75,
   "metadata": {
    "collapsed": false,
    "scrolled": true
   },
   "outputs": [
    {
     "name": "stdout",
     "output_type": "stream",
     "text": [
      "During the observed period (2016.Feb.02-06), we experienced 91 outages in the internet service lasting altogether\n",
      "162.0 minutes. The average outage lasted for 106.81 seconds while the median length of the outages was 92.0.\n"
     ]
    },
    {
     "data": {
      "image/png": "[encoded data removed]",
      "text/plain": [
       "<matplotlib.figure.Figure at 0x10aa8c050>"
      ]
     },
     "metadata": {},
     "output_type": "display_data"
    }
   ],
   "source": [
    "import urllib2\n",
    "from smb.SMBHandler import SMBHandler\n",
    "import pandas as pd\n",
    "import pytz\n",
    "import matplotlib.pyplot as plt\n",
    "import numpy as np\n",
    "\n",
    "# Reading the logfile into a dataframe:\n",
    "logfile = \"smb://192.168.1.110/Backup/Dani/home/miccalogs/2016.02.02_pingtest.lst\"\n",
    "director = urllib2.build_opener(SMBHandler)\n",
    "fh = director.open(logfile)\n",
    "df = pd.read_csv(fh, sep=\"\\t\", )\n",
    "\n",
    "# Parsing datetime object and set timezome to GMT from PST \n",
    "# (Our NAS thinks we are still in California :)\n",
    "dates = [datetime.strptime(x, '%Y-%m-%d_%H:%M:%S') for x in df.DateTime]\n",
    "df[\"dates\"] = dates\n",
    "df[\"Exit_code\"] = df.Ping_exit_code / 256 # perl multiplies all exit codes by 256, so it has to be back transformed\n",
    "# Exit code 0 - Package successfully sent, and response received.\n",
    "# Exit code 1 - Package sending was failed.\n",
    "# Exit code 2 - Package was successfully sent, but no response received.\n",
    "\n",
    "ts = pd.Series(df.Exit_code.tolist(), index=df.dates)\n",
    "ts = ts.tz_localize('US/Alaska')\n",
    "ts = ts.tz_convert('Europe/London')\n",
    "\n",
    "# Now let's summarize the outages:\n",
    "# Let's summarize the service outage:\n",
    "lower = 'x'\n",
    "upper = ''\n",
    "missing_net = {}\n",
    "for index in range(len(df)):\n",
    "    if df.Exit_code[index] == 1:\n",
    "        if lower == 'x':\n",
    "            lower = df.dates[index]\n",
    "    else:\n",
    "        if not lower == 'x':\n",
    "            upper = df.dates[index-1]\n",
    "            missing_net[lower] = upper - lower\n",
    "            lower = 'x'\n",
    "\n",
    "number = len(missing_net)\n",
    "missing = 0;\n",
    "missing_hist = []\n",
    "for trange in missing_net.values():\n",
    "    missing += trange.seconds\n",
    "    missing_hist.append(trange.seconds)\n",
    "\n",
    "mean = np.mean(missing_hist)\n",
    "median = np.median(missing_hist)\n",
    "\n",
    "# Printing out record:\n",
    "print '''During the observed period (%s-%s), we experienced %s outages in the internet service lasting altogether\n",
    "%s minutes. The average outage lasted for %s seconds while the median length of the outages was %s.''' %(\n",
    "    ts.index[0].strftime(\"%Y.%h.%d\"), ts.index[-1].strftime(\"%d\"), len(missing_hist), round(float(missing)/60, 2),\n",
    "    np.round(mean,2), np.round(median,2))\n",
    "\n",
    "# Plot time series, and save figure.\n",
    "fig = plt.figure(figsize=(15,5))\n",
    "plt.ylim([-0.1, 1.1])\n",
    "plt.fill_between(ts.index, ts, np.zeros(len(ts)), where=None, color = 'red', \n",
    "                 facecolor='red', interpolate=False, step=None, hold=None, data=None)\n",
    "\n",
    "# Generate filename for the plot:\n",
    "filename = '%s_%s.png' %( ts.index[0].strftime(\"%Y.%m.%d_%H.%M\"), ts.index[-1].strftime(\"%Y.%m.%d_%H.%M\"))\n",
    "plt.savefig(filename)"
   ]
  },
  {
   "cell_type": "code",
   "execution_count": null,
   "metadata": {
    "collapsed": true
   },
   "outputs": [],
   "source": []
  }
 ],
 "metadata": {
  "kernelspec": {
   "display_name": "Python 2",
   "language": "python",
   "name": "python2"
  },
  "language_info": {
   "codemirror_mode": {
    "name": "ipython",
    "version": 2
   },
   "file_extension": ".py",
   "mimetype": "text/x-python",
   "name": "python",
   "nbconvert_exporter": "python",
   "pygments_lexer": "ipython2",
   "version": "2.7.11"
  }
 },
 "nbformat": 4,
 "nbformat_minor": 0
}
